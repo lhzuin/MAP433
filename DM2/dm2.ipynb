{
 "cells": [
  {
   "cell_type": "markdown",
   "metadata": {},
   "source": [
    "# MAP 433\n",
    "## Groupe 2\n",
    "### DM 2\n",
    "\n",
    "COSTA, Caio; SILVA CLAUDINO, Ariel; ZUIN RUIZ, Luis Henrique"
   ]
  },
  {
   "cell_type": "markdown",
   "metadata": {},
   "source": [
    "### Partie Théorique"
   ]
  },
  {
   "cell_type": "markdown",
   "metadata": {},
   "source": [
    "### Question 1. Montrer que le modèle est identifiable\n",
    "\n",
    "Si $\\mathbb{P}_\\theta = \\mathbb{P}_{\\theta'}$,\n",
    "\n",
    "alors pour tout $1 \\le i \\le n$, on a $\\mathrm{Ber}(\\varphi(\\theta^T \\mathbf{x}_i)) = \\mathrm{Ber}(\\varphi(\\theta'^T \\mathbf{x}_i))$,\n",
    "\n",
    "et donc pour tout $1 \\le i \\le n$, $\\varphi(\\theta^T \\mathbf{x}_i) = \\varphi(\\theta'^T \\mathbf{x}_i)$.\n",
    "\n",
    "Ainsi, vu que la fonction sigmoide $\\varphi$ est bijective, on a $\\theta^T \\mathbf{x}_i = \\theta'^T \\mathbf{x}_i$ pour tout $1 \\le i \\le n$.\n",
    "\n",
    "Donc, $X_n \\theta = X_n \\theta'$, et comme $X_n$ est de rang plein, on a $\\theta = \\theta'$."
   ]
  },
  {
   "cell_type": "markdown",
   "metadata": {},
   "source": [
    "### Question 2. Monter que $F_n(\\theta)$ est définie positive\n",
    "\n",
    "Soit $w \\in \\mathbb{R}^p$. On veut montrer que $w^T F_n(\\theta) w \\ge 0$ et que $w^T F_n(\\theta) w = 0$ si et seulement si $w = 0$.\n",
    "\n",
    "$$\\begin{align*}\n",
    "w^T F_n(\\theta) w &= \\sum_{i=1}^n h(\\theta^T \\mathbf{x}_i) w^T \\mathbf{x}_i \\mathbf{x}_i^T w \\\\\n",
    "&= \\sum_{i=1}^n h(\\theta^T \\mathbf{x}_i) (w^T \\mathbf{x}_i)^2 \\\\\n",
    "&\\ge 0,\n",
    "\\end{align*}$$\n",
    "\n",
    "car $h \\colon \\mathbb{R} \\to [0, 1]$ est positive. De plus, $h$ ne s'annule pas sur $\\mathbb{R}$, donc $w^T F_n(\\theta) w = 0$ si et seulement si $w^T \\mathbf{x}_i = 0$ pour tout $1 \\le i \\le n$, c'est-à-dire si et seulement si $X_n^T w = 0$. Comme $X_n$ est de rang plein, on a $w = 0$."
   ]
  },
  {
   "cell_type": "markdown",
   "metadata": {},
   "source": [
    "### Question 3. Montrer que $h$ est 1-Lipschitzienne sur $\\mathbb{R}$\n",
    "\n",
    "On va estimer la dérivée de $h$.\n",
    "\n",
    "$$\\begin{align*}\n",
    "h(t) &= \\frac{e^t}{(1 + e^t)^2} \\\\\n",
    "\\implies h'(t) &= \\frac{e^t (1-e^t)}{(1 + e^t)^3}\n",
    "\\end{align*}$$\n",
    "\n",
    "Pour $t \\in \\mathbb{R}$, $e^t \\in (0, \\infty)$, donc il nous faut analyser le comportement de $f(y) = \\frac{y(1-y)}{(1+y)^3}$ sur $(0, \\infty)$.\n",
    "\n",
    "$$\\begin{align*}\n",
    "f'(y) &= \\frac{y^2 - 4y + 1}{(y+1)^4} = 0 \\iff y = 2 \\pm \\sqrt{3} \\\\\n",
    "\\end{align*}$$"
   ]
  },
  {
   "cell_type": "code",
   "execution_count": 3,
   "metadata": {},
   "outputs": [
    {
     "name": "stdout",
     "output_type": "stream",
     "text": [
      "La valeur maximale de |f(y)| est 0.09622145382044442\n"
     ]
    },
    {
     "data": {
      "image/png": "[encoded data removed]",
      "text/plain": [
       "<Figure size 640x480 with 1 Axes>"
      ]
     },
     "metadata": {},
     "output_type": "display_data"
    }
   ],
   "source": [
    "import numpy as np\n",
    "import matplotlib.pyplot as plt\n",
    "\n",
    "y = np.arange(0, 10, 0.1)\n",
    "f = y * (1 - y) / (1 + y) ** 3\n",
    "\n",
    "plt.plot(y, f)\n",
    "plt.xlabel('y')\n",
    "plt.ylabel('f(y)')\n",
    "plt.title('f(y) = y(1 - y)/(1 + y)^3')\n",
    "\n",
    "max_abs_f = np.max(np.abs(f))\n",
    "plt.ylim(-max_abs_f, max_abs_f)\n",
    "plt.grid()\n",
    "\n",
    "print('La valeur maximale de |f(y)| est', max_abs_f)\n",
    "plt.show()"
   ]
  },
  {
   "cell_type": "markdown",
   "metadata": {},
   "source": [
    "Donc, comme $\\sup_{y \\in (0, \\infty)} |f(y)| \\approx 0.096221 \\le 1$, on a $|h'(t)| \\le 1$ pour tout $t \\in \\mathbb{R}$, et donc $h$ est 1-Lipschitzienne sur $\\mathbb{R}$."
   ]
  },
  {
   "cell_type": "markdown",
   "metadata": {},
   "source": [
    "### Question 4. Déterminer la vraisemblance et la log-vraisemblance du modèle\n",
    "\n",
    "La vraisemblance du modèle est donnée par\n",
    "\n",
    "$$\\begin{align*}\n",
    "L_n(\\theta) &= \\prod_{i=1}^n \\mathbb{P}_\\theta(Y_i = y_i) \\\\\n",
    "&= \\prod_{i=1}^n \\varphi(\\theta^T \\mathbf{x}_i)^{y_i} (1 - \\varphi(\\theta^T \\mathbf{x}_i))^{1-y_i} \\\\\n",
    "\\end{align*}$$\n",
    "\n",
    "Donc la log-vraisemblance est donnée par\n",
    "$$\\begin{align*}\n",
    "\\ell_n(\\theta) &= \\log L_n(\\theta) \\\\\n",
    "&= \\sum_{i=1}^n y_i \\log \\varphi(\\theta^T \\mathbf{x}_i) + (1-y_i) \\log (1 - \\varphi(\\theta^T \\mathbf{x}_i)) \\\\\n",
    "\\end{align*}$$"
   ]
  },
  {
   "cell_type": "markdown",
   "metadata": {},
   "source": [
    "### Question 5. Montrer que la log-vraisemblance est strictement concave\n",
    "\n",
    "On a\n",
    "$$\\nabla_\\theta ~ \\varphi(\\theta^T x_i) = \\varphi'(\\theta^T x_i) ~ x_i,$$\n",
    "\n",
    "donc, comme $\\varphi' = \\varphi(1 - \\varphi) = h$, on a\n",
    "$$\\begin{align*}\n",
    "\\nabla_\\theta ~ \\ell_n(\\theta) &= \\sum_{i=1}^n \\left( y_i \\frac{\\varphi'(\\theta^T x_i)}{\\varphi(\\theta^T x_i)} - (1-y_i) \\frac{\\varphi'(\\theta^T x_i)}{1 - \\varphi(\\theta^T x_i)} \\right) x_i \\\\\n",
    "&= \\sum_{i=1}^n \\left( \\frac{y_i (1 - \\varphi(\\theta^T x_i)) - (1-y_i) \\varphi(\\theta^T x_i)}{h(\\theta^T x_i)} \\right) \\varphi'(\\theta^T x_i) x_i \\\\\n",
    "&= \\sum_{i=1}^n \\left( \\frac{y_i - \\varphi(\\theta^T x_i)}{h(\\theta^T x_i)} \\right) \\varphi'(\\theta^T x_i) x_i \\\\\n",
    "&= \\sum_{i=1}^n \\left( y_i - \\varphi(\\theta^T x_i) \\right) x_i \\\\\n",
    "&= X_n^T (Y_n - \\Phi_n (\\theta)),\n",
    "\\end{align*}$$"
   ]
  },
  {
   "cell_type": "markdown",
   "metadata": {},
   "source": [
    "Pour calculer la hessienne, on pose $\\nabla_\\theta ~ \\ell_n(\\theta) = (f_1, \\ldots, f_p)^T$. La hessienne est donnée par $\\nabla^2_\\theta ~ \\ell_n(\\theta) = \\left( \\frac{\\partial f_i}{\\partial \\theta_j} \\right)_{1 \\le i, j \\le p} = \\left( (\\nabla_\\theta f_i)^T \\right)_{1 \\le i \\le p}^T$.\n",
    "\n",
    "$$\\begin{align*}\n",
    "f_i &= \\sum_{j=1}^n (y_j - \\varphi(\\theta^T x_j)) x_{j, i} \\\\\n",
    "\\implies \\nabla_\\theta ~ f_i &= \\sum_{j=1}^n \\left( -\\varphi'(\\theta^T x_j) x_{j, i} \\right) x_j \\\\\n",
    "\\implies \\nabla_\\theta ~ f_i^T &= \\sum_{j=1}^n \\left( -\\varphi'(\\theta^T x_j) x_{j, i} \\right) x_j^T \\\\\n",
    "\\implies \\nabla^2_\\theta ~ \\ell_n(\\theta) &= - \\sum_{j=1}^n \\varphi'(\\theta^T x_j) x_j x_j^T \\\\\n",
    "&= - \\sum_{j=1}^n h(\\theta^T x_j) x_j x_j^T \\\\\n",
    "&= - F_n(\\theta),\n",
    "\\end{align*}$$"
   ]
  },
  {
   "cell_type": "markdown",
   "metadata": {},
   "source": [
    "On calcule maintenant $\\mathbb{E}_{n, \\theta} \\left[ \\nabla_\\theta \\ell_n(\\theta) ~ \\nabla_\\theta \\ell_n(\\theta)^T \\right]$.\n",
    "\n",
    "$$\\nabla_\\theta \\ell_n(\\theta) ~ \\nabla_\\theta \\ell_n(\\theta)^T = X_n^T (Y_n - \\Phi_n(\\theta)) (Y_n - \\Phi_n(\\theta))^T X_n$$\n",
    "\n",
    "$$\\mathbb{E}_{n, \\theta} (Y_n) = \\Phi_n(\\theta)$$\n",
    "\n",
    "$$\\begin{align*}\n",
    "(\\mathbb{E}_{n, \\theta} (Y_n Y_n^T))_{ij} &= \\mathbb{E}_{n, \\theta} (Y_i ~ Y_j) \\\\\n",
    "&= \\mathbb{E}_{n, \\theta} (Y_i) \\mathbb{E}_{n, \\theta} (Y_j) (1 - \\delta_{ij}) + \\mathbb{E}_{n, \\theta} (Y_i^2) \\delta_{ij} \\\\\n",
    "&= \\mathbb{E}_{n, \\theta} (Y_i) \\mathbb{E}_{n, \\theta} (Y_j) (1 - \\delta_{ij}) + \\mathbb{E}_{n, \\theta} (Y_i) \\delta_{ij} \\\\\n",
    "&= \\varphi(\\theta^T x_i) \\varphi(\\theta^T x_j) (1 - \\delta_{ij}) + \\varphi(\\theta^T x_i) \\delta_{ij} \\\\\n",
    "&= \\varphi(\\theta^T x_i) \\varphi(\\theta^T x_j) + \\delta_{ij} \\varphi(\\theta^T x_i) (1 - \\varphi(\\theta^T x_i)) \\\\\n",
    "&= \\varphi(\\theta^T x_i) \\varphi(\\theta^T x_j) + \\delta_{ij} h(\\theta^T x_i) \\\\\n",
    "\\implies \\mathbb{E}_{n, \\theta} (Y_n Y_n^T) &= \\Phi_n(\\theta) \\Phi_n(\\theta)^T + \\mathrm{diag}(h(\\theta^T x_1), \\ldots, h(\\theta^T x_n)) \\\\\n",
    "\\end{align*}$$\n",
    "\n",
    "$$\\begin{align*}\n",
    "\\mathbb{E}_{n, \\theta} \\left[ (Y_n - \\Phi_n(\\theta)) (Y_n - \\Phi_n(\\theta))^T \\right] &= \\mathbb{E}_{n, \\theta} (Y_n Y_n^T) - \\mathbb{E}_{n, \\theta} (Y_n) \\Phi_n(\\theta)^T - \\Phi_n(\\theta) \\mathbb{E}_{n, \\theta} (Y_n)^T + \\Phi_n(\\theta) \\Phi_n(\\theta)^T \\\\\n",
    "&= \\mathbb{E}_{n, \\theta} (Y_n Y_n^T) - \\Phi_n(\\theta) \\Phi_n(\\theta)^T \\\\\n",
    "&= \\mathrm{diag}(h(\\theta^T x_1), \\ldots, h(\\theta^T x_n)) \\\\\n",
    "&= \\colon H_n(\\theta),\n",
    "\\end{align*}$$\n",
    "\n",
    "Donc,\n",
    "$$\\begin{align*}\n",
    "\\mathbb{E}_{n, \\theta} \\left[ \\nabla_\\theta \\ell_n(\\theta) ~ \\nabla_\\theta \\ell_n(\\theta)^T \\right] &= X_n^T H_n(\\theta) X_n \\\\\n",
    "&= (x_1, \\ldots, x_n) H_n(\\theta) (x_1, \\ldots, x_n)^T \\\\\n",
    "&= \\sum_{i=1}^n h(\\theta^T x_i) x_i x_i^T \\\\\n",
    "&= F_n(\\theta),\n",
    "\\end{align*}$$"
   ]
  },
  {
   "cell_type": "markdown",
   "metadata": {},
   "source": [
    "Comme la hessienne est négative définie, la log-vraisemblance est strictement concave."
   ]
  },
  {
   "cell_type": "markdown",
   "metadata": {},
   "source": [
    "$$\\varphi(\\lambda \\theta_\\star) = \\frac 1 {1 + e^{-\\lambda \\theta_\\star^T x_i}}$$\n",
    "\n",
    "Si $y_i = 1$, on a $\\theta_\\star^T x_i > 0$, et alors $\\lim_{\\lambda \\to \\infty} \\varphi(\\lambda \\theta_\\star) = 1$.\n",
    "\n",
    "Si $y_i = 0$, on a $\\theta_\\star^T x_i < 0$, et alors $\\lim_{\\lambda \\to \\infty} \\varphi(\\lambda \\theta_\\star) = 0$.\n",
    "\n",
    "Dans les deux cas, on a\n",
    "$$\\lim_{\\lambda \\to \\infty} y_i \\log \\varphi(\\lambda \\theta_\\star^T x_i) + (1-y_i) \\log (1 - \\varphi(\\lambda \\theta_\\star^T x_i)) = 0,$$\n",
    "\n",
    "et en sommant sur $i$, on obtient $\\lim_{\\lambda \\to \\infty} \\ell_n(\\lambda \\theta_\\star) = 0$.\n",
    "\n",
    "D'une part, comme $\\ell_n(\\theta) \\le 0$ pour tout $\\theta$, on a $\\sup_{\\theta} \\ell_n(\\theta) = 0$.\n",
    "D'autre part, si on avait un maximum de vraisemblance $\\hat{\\theta}$, on aurait $\\ell_n(\\hat{\\theta}) = \\sup_{\\theta} \\ell_n(\\theta) = 0$, mais ça ne peut pas arriver, car $\\varphi(\\theta^T x_i) \\in (0,1) \\implies \\log \\varphi(\\theta^T x_i) \\in (-\\infty, 0)$ et $\\log (1 - \\varphi(\\theta^T x_i)) \\in (-\\infty, 0)$, donc $\\ell_n(\\theta) < 0$ pour tout $\\theta$."
   ]
  },
  {
   "cell_type": "markdown",
   "metadata": {},
   "source": [
    "### Question 7. Montrer que si les données sont quasi-séparables, alors le maximum de vraisemblance n'existe pas non plus\n",
    "\n",
    "Soient $\\mathcal E_0 = \\{k \\in \\{1, \\ldots, n\\} \\mid y_k = 0\\}$ et $\\mathcal E_1 = \\{k \\in \\{1, \\ldots, n\\} \\mid y_k = 1\\}$.\n",
    "\n",
    "On a\n",
    "\n",
    "$$\\begin{align*}\n",
    "L_n(\\theta_\\lambda) &= \\prod_{k \\in \\mathcal E_0} (1 - \\varphi(\\theta_\\lambda^T x_k)) \\\\\n",
    "&\\times \\prod_{k \\in \\mathcal E_1} \\varphi(\\theta_\\lambda^T x_k) \\\\\n",
    "&\\times \\prod_{k \\in \\mathcal E} \\varphi(\\theta_\\lambda^T x_k)^{y_k} (1 - \\varphi(\\theta_\\lambda^T x_k))^{1-y_k} \\\\\n",
    "\\end{align*}$$"
   ]
  },
  {
   "cell_type": "markdown",
   "metadata": {},
   "source": [
    "Pour $k \\in \\mathcal E$,\n",
    "\n",
    "$$\\varphi(\\theta_\\lambda^T x_k)^{y_k} (1 - \\varphi(\\theta_\\lambda^T x_k))^{1-y_k}$$\n",
    "\n",
    "ne dépend pas de $\\lambda$, car\n",
    "\n",
    "$$\\varphi(\\theta_\\lambda^T x_k) = \\varphi(\\lambda \\theta_\\star^T x_k + (\\bar \\theta - \\theta_\\star)^T x_k)\n",
    "= \\varphi((\\bar \\theta - \\theta_\\star)^T x_k).$$\n",
    "\n",
    "Donc, on peut ignorer ces termes.\n",
    "\n",
    "Pour $k \\in \\mathcal E_1$, on a $\\theta_\\star^T x_k > 0$.\n",
    "Dans ce cas,\n",
    "$\\varphi$ étant strictement croissante, on a $\\lambda \\mapsto \\varphi(\\theta_\\lambda^T x_k) = \\varphi(\\lambda \\theta_\\star^T x_k + (\\bar \\theta - \\theta_\\star)^T x_k)$ strictement croissante.\n",
    "\n",
    "De même, pour $k \\in \\mathcal E_0$, on a $\\theta_\\star^T x_k < 0$ et $\\lambda \\mapsto \\varphi(\\theta_\\lambda^T x_k)$ strictement décroissante, et alors $\\lambda \\mapsto 1 - \\varphi(\\theta_\\lambda^T x_k)$ strictement croissante.\n",
    "\n",
    "Cela démontre que $L_n(\\theta_\\lambda)$ est strictement croissante en $\\lambda$, dès que $\\mathcal E_0 \\cup \\mathcal E_1 \\ne \\emptyset$.\n",
    "\n",
    "Comme $\\bar \\theta$ était arbitraire, on peut pour tout point $\\theta = \\bar \\theta - \\theta_\\star \\in \\mathbb{R}^p$ trouver un $\\theta_\\lambda$ tel que $L_n(\\theta_\\lambda) > L_n(\\theta)$, et donc le maximum de vraisemblance n'existe pas, dès que les données soient quasi-séparables et que $\\mathcal E_0 \\cup \\mathcal E_1 \\ne \\emptyset$."
   ]
  },
  {
   "cell_type": "markdown",
   "metadata": {},
   "source": [
    "### Question 8. Montrer que l'existence d'un récouvrement implique l'existence et l'unicité du maximum de vraisemblance"
   ]
  },
  {
   "cell_type": "markdown",
   "metadata": {},
   "source": [
    "Pour $\\theta \\in \\mathbb{R}^p \\setminus \\{0\\}$, $(\\theta^T x_1, \\ldots, \\theta^T x_n)$ a toujours des éléments de signes opposés, donc \n",
    "$f(\\theta) = \\min\\limits_{1 \\le i \\le n} \\theta^T x_i < 0$ et $g(\\theta) = \\max\\limits_{1 \\le i \\le n} \\theta^T x_i > 0$. Comme $f$ est le $\\min$ de fonctions continues et $g$ est le $\\max$ de fonctions continues, $f$ et $g$ sont continues.\n",
    "\n",
    "Sur le compact $\\mathcal S(0,1)$, $f$ et $g$ atteignent leurs bornes, donc il existent $\\theta_0, \\theta_1 \\in \\mathcal S(0,1)$ tels que \n",
    "\n",
    "$$\\begin{cases}\n",
    "f(\\theta) \\le f(\\theta_0) < 0 \\\\\n",
    "g(\\theta) \\ge g(\\theta_1) > 0\n",
    "\\end{cases}$$\n",
    "\n",
    "pour tout $\\theta \\in \\mathcal S(0,1)$. On prend $\\zeta = \\frac 1 2 \\min\\{|f(\\theta_0)|, |g(\\theta_1)|\\}$, et on a $\\zeta > 0$, avec\n",
    "\n",
    "$$\\begin{cases}\n",
    "f(\\theta) < -\\zeta \\\\\n",
    "g(\\theta) > \\zeta\n",
    "\\end{cases}$$\n",
    "\n",
    "pour tout $\\theta \\in \\mathcal S(0,1)$.\n",
    "\n"
   ]
  },
  {
   "cell_type": "markdown",
   "metadata": {},
   "source": [
    "### Question 9. Montrer qu'il existe une constante $C$ telle que pour tout $\\theta, \\vartheta \\in \\mathbb{R}^p$, et tout $n > 0$, $F_n$ soit $Cn$-Lipschitzienne"
   ]
  },
  {
   "cell_type": "markdown",
   "metadata": {},
   "source": [
    "On veut estimer\n",
    "\n",
    "$$\\lVert F_n(\\theta) - F_n(\\vartheta) \\rVert = \\sup\\limits_{\\lVert w \\rVert = 1} \\lVert \\left[F_n(\\theta) - F_n(\\vartheta)\\right] w \\rVert.$$\n",
    "\n",
    "Pour $w \\in \\mathbb{R}^p$ avec $\\lVert w \\rVert = 1$, on a\n",
    "\n",
    "$$\\begin{align*}\n",
    "\\lVert \\left[F_n(\\theta) - F_n(\\vartheta)\\right] w \\rVert &= \\left\\lVert \\sum_{i=1}^n [h(\\theta^T x_i) - h(\\vartheta^T x_i)] x_i x_i^T w \\right\\rVert \\\\\n",
    "&\\le \\sum_{i=1}^n \\left\\lVert [h(\\theta^T x_i) - h(\\vartheta^T x_i)] x_i x_i^T w \\right\\rVert \\\\\n",
    "&= \\sum_{i=1}^n |x_i^T w| \\cdot |h(\\theta^T x_i) - h(\\vartheta^T x_i)| \\cdot \\lVert x_i \\rVert \\\\\n",
    "&\\le \\sum_{i=1}^n \\lVert x_i \\rVert \\cdot \\lVert x_i \\rVert \\cdot \\lVert w \\rVert \\cdot |h(\\theta^T x_i) - h(\\vartheta^T x_i)| &\\quad \\text{(Cauchy-Schwarz)} \\\\\n",
    "&= \\sum_{i=1}^n \\lVert x_i \\rVert^2 \\cdot |h(\\theta^T x_i) - h(\\vartheta^T x_i)| &\\quad \\text{(car $\\lVert w \\rVert = 1$)} \\\\\n",
    "&\\le \\sum_{i=1}^n \\lVert x_i \\rVert^2 \\cdot | (\\theta - \\vartheta)^T x_i | &\\quad \\text{(car $h$ est 1-Lipschitzienne)} \\\\\n",
    "&\\le \\lVert \\theta - \\vartheta \\rVert \\sum_{i=1}^n \\lVert x_i \\rVert^3 &\\quad \\text{(Cauchy-Schwarz)} \\\\\n",
    "&= n \\cdot \\lVert \\theta - \\vartheta \\rVert \\cdot \\frac 1 n \\sum_{i=1}^n \\lVert x_i \\rVert^3 \\\\\n",
    "&\\le Cn \\cdot \\lVert \\theta - \\vartheta \\rVert,\n",
    "\\end{align*}$$\n",
    "\n",
    "où $C := \\sup\\limits_{n > 0} \\frac 1 n \\sum_{i=1}^n \\lVert x_i \\rVert^3 < \\infty$ par hypothèse.\n",
    "\n",
    "On a bien montré que, pour tout $w \\in \\mathbb{R}^p$ avec $\\lVert w \\rVert = 1$, $$\\lVert \\left[F_n(\\theta) - F_n(\\vartheta)\\right] w \\rVert \\le Cn \\lVert \\theta - \\vartheta \\rVert.$$ En prenant le $\\sup$ sur ces $w$, on obtient $\\lVert F_n(\\theta) - F_n(\\vartheta) \\rVert \\le Cn \\lVert \\theta - \\vartheta \\rVert$, ce qui montre que $F_n$ est $Cn$-Lipschitzienne."
   ]
  },
  {
   "cell_type": "markdown",
   "metadata": {},
   "source": [
    "### Question 10\n",
    "\n",
    "Comme $$\\nabla \\ell_n(\\theta) = \\sum_{i=1}^n \\left\\{y_i - \\varphi(\\theta^T x_i)\\right\\} x_i,$$ on a \n",
    "$$\\nabla \\ell_n(\\hat \\theta_{n}) - \\nabla \\ell_n(\\theta) = - \\sum_{i=1}^n \\left\\{ \\varphi(\\hat \\theta_{n}^T x_i) - \\varphi(\\theta^T x_i) \\right\\} x_i.$$\n",
    "\n",
    "On fait un développement limité d'ordre 1:\n",
    "\n",
    "$$\\varphi(t) = \\varphi(t_0) + \\varphi'(t_0) (t - t_0) + R(t) (t - t_0), \\quad \\text{avec} \\quad \\lim_{t \\to t_0} R(t) = 0.$$\n",
    "\n",
    "Donc, pour $t = \\hat \\theta_{n}^T x_i$ et $t_0 = \\theta^T x_i$,\n",
    "\n",
    "$$\\begin{align*}\n",
    "\\varphi(\\hat \\theta_{n}^T x_i) - \\varphi(\\theta^T x_i) &= \\varphi'(\\theta^T x_i) (\\hat \\theta_{n}^T x_i - \\theta^T x_i) + R(\\hat \\theta_{n}^T x_i) (\\hat \\theta_{n}^T x_i - \\theta^T x_i) \\\\\n",
    "&= \\left[ \\varphi'(\\theta^T x_i) + R(\\hat \\theta_{n}^T x_i) \\right] (\\hat \\theta_{n} - \\theta)^T x_i \\\\\n",
    "&= \\left[ h(\\theta^T x_i) + R(\\hat \\theta_{n}^T x_i) \\right] x_i^T (\\hat \\theta_{n} - \\theta).\n",
    "\\end{align*}$$\n",
    "\n",
    "Donc, on a\n",
    "\n",
    "$$\\begin{align*}\n",
    "\\left\\{\\varphi(\\hat \\theta_{n}^T x_i) - \\varphi(\\theta^T x_i) \\right\\} x_i &= \\left\\{h(\\theta^T x_i) + R(\\hat \\theta_{n}^T x_i) \\right\\} x_i x_i^T (\\hat \\theta_{n} - \\theta) \\\\\n",
    "\\implies \\nabla \\ell_n(\\hat \\theta_{n}) - \\nabla \\ell_n(\\theta) &= - \\sum_{i=1}^n \\left\\{ \\varphi(\\hat \\theta_{n}^T x_i) - \\varphi(\\theta^T x_i) \\right\\} x_i \\\\\n",
    " &= - \\sum_{i=1}^n \\left\\{h(\\theta^T x_i) + R(\\hat \\theta_{n}^T x_i) \\right\\} x_i x_i^T (\\hat \\theta_{n} - \\theta) \\\\\n",
    "&= \\left[ - F_n(\\theta) - \\sum_{i=1}^n R(\\hat \\theta_{n}^T x_i) x_i x_i^T \\right] (\\hat \\theta_{n} - \\theta).\n",
    "\\end{align*}$$"
   ]
  },
  {
   "cell_type": "markdown",
   "metadata": {},
   "source": [
    "Donc, si on appele $R_n := \\frac 1 n \\sum_{i=1}^n R(\\hat \\theta_{n}^T x_i) x_i x_i^T$, on a, par la consistance de la suite d'estimateurs $\\{ \\hat \\theta_{n} \\}_{n \\ge 1}$, $\\lim_{n \\to \\infty} R_n = 0$, et donc\n",
    "\n",
    "$$\\frac { \\nabla \\ell_n(\\hat \\theta_{n}^{\\mathrm{MV}}) - \\nabla \\ell_n(\\theta) } { \\sqrt n } =  \\left( - \\frac {F_n(\\theta)} n + R_n \\right) \\sqrt n (\\hat \\theta_{n} - \\theta)$$\n",
    "\n",
    "où $R_n \\xrightarrow[]{\\mathbb{P}_{n, \\theta}\\text{-prob}} 0$."
   ]
  },
  {
   "cell_type": "markdown",
   "metadata": {},
   "source": [
    "### Question 11\n",
    "\n",
    "Soient $Z_{n, i} = \\frac 1 {\\sqrt n} (Y_i - \\varphi(\\theta^T x_i)) x_i$. Les variables $\\{(Z_{n, i})_{i = 1}^n, n \\in \\mathbb{N}\\}$ forment un tableau triangulaire de variables aléatoires indépendantes, centrées, de carré intégrable (donné par $\\mathbb{E} (\\lVert Z_{n, i} \\rVert^2) = h(\\theta^T x_i) \\lVert x_i \\rVert^2$). On veut appliquer le Lindeberg-Feller, que nous dira que\n",
    "\n",
    "$$\\frac 1 {\\sqrt n} \\nabla \\ell_n(\\theta) = \\sum_{i=1}^n Z_{n, i} \\xrightarrow[]{\\mathrm{loi}} \\mathcal N(0, Q(\\theta)).$$\n",
    "\n",
    "Vérifions les conditions de Lindeberg-Feller:"
   ]
  },
  {
   "cell_type": "markdown",
   "metadata": {},
   "source": [
    "#### Première condition\n",
    "\n",
    "Soit $\\varepsilon > 0$ et $n \\in \\mathbb{N}$. On a\n",
    "\n",
    "$$\\lVert Z_{n, i} \\rVert^2 = \\frac 1 n (Y_i - \\varphi(\\theta^T x_i))^2 \\lVert x_i \\rVert^2 \\le \\frac 1 n \\lVert x_i \\rVert^2.$$\n",
    "\n",
    "Donc, $\\lVert Z_{n, i} \\rVert > \\varepsilon \\implies \\lVert x_i \\rVert > \\sqrt n \\varepsilon$.\n",
    "\n",
    "Alors\n",
    "\n",
    "$$\\begin{align*}\n",
    "0 \\le \\sum_{i=1}^n \\mathbb{E} \\left[ \\lVert Z_{n, i} \\rVert^2 \\mathbf{1}_{\\{\\lVert Z_{n, i} \\rVert > \\varepsilon\\}} \\right] &\\le \\sum_{i=1}^n \\frac 1 n \\lVert x_i \\rVert^2 \\mathbf{1}_{\\{\\lVert x_i \\rVert > \\sqrt n \\varepsilon\\}} \\\\\n",
    "&\\le \\sum_{i=1}^n \\frac { \\lVert x_i \\rVert^3 } { n \\lVert x_i \\rVert } \\mathbf{1}_{\\{\\lVert x_i \\rVert > \\sqrt n \\varepsilon\\}} \\\\\n",
    "&\\le \\frac 1 {\\sqrt n \\varepsilon} \\left( \\frac 1 n \\sum_{i=1}^n \\lVert x_i \\rVert^3 \\right) \\\\\n",
    "&\\le \\frac C { \\sqrt n \\varepsilon} \\xrightarrow[]{n \\to \\infty} 0.\n",
    "\\end{align*}$$\n",
    "\n",
    "Et donc, pour tout $\\varepsilon > 0$, on a $\\lim_{n \\to \\infty} \\sum_{i=1}^n \\mathbb{E} \\left[ \\lVert Z_{n, i} \\rVert^2 \\mathbf{1}_{\\{\\lVert Z_{n, i} \\rVert > \\varepsilon\\}} \\right] = 0$, et donc la première condition du théorème de Lindeberg-Feller est vérifiée."
   ]
  },
  {
   "cell_type": "markdown",
   "metadata": {},
   "source": [
    "#### Deuxième condition\n",
    "\n",
    "De plus, on a\n",
    "\n",
    "$$\\begin{align*}\n",
    "\\sum_{i=1}^n \\mathrm{Var}(Z_{n, i}) &= \\sum_{i=1}^n \\mathbb{E} \\left[ Z_{n, i} Z_{n, i}^T \\right] \\\\\n",
    "&= \\frac 1 n \\sum_{i=1}^n  \\mathbb{E} \\left[ (Y_i - \\varphi(\\theta^T x_i))^2 x_i x_i^T \\right] \\\\\n",
    "&= \\frac 1 n \\sum_{i=1}^n  \\mathbb{E} \\left[ (Y_i - \\varphi(\\theta^T x_i))^2 \\right] x_i x_i^T \\\\\n",
    "\\end{align*}$$"
   ]
  },
  {
   "cell_type": "markdown",
   "metadata": {},
   "source": [
    "Mais $\\mathbb{E} \\left[ (Y_i - \\varphi(\\theta^T x_i))^2 \\right] = \\mathrm{Var}(Y_i) = \\varphi(\\theta^T x_i) (1 - \\varphi(\\theta^T x_i)) = h(\\theta^T x_i)$, donc\n",
    "\n",
    "$$\\sum_{i=1}^n \\mathrm{Var}(Z_{n, i}) = \\frac 1 n \\sum_{i=1}^n h(\\theta^T x_i) x_i x_i^T = \\frac 1 n F_n(\\theta) \\xrightarrow[]{n \\to \\infty} Q(\\theta),$$\n",
    "\n",
    "car d'après l'hypothèse H1, $\\frac 1 n F_n(\\theta) \\xrightarrow[]{n \\to \\infty} Q(\\theta)$."
   ]
  },
  {
   "cell_type": "markdown",
   "metadata": {},
   "source": [
    "Donc, les conditions du théorème de Lindeberg-Feller sont vérifiées, et on a que la suite\n",
    "\n",
    "$$\\left\\{ \\sum_{i=1}^n Z_{n, i}, ~~ n \\in \\mathbb N \\right\\}$$\n",
    "\n",
    "converge en loi vers une variable aléatoire gaussienne centrée de matrice de covariance $Q(\\theta)$."
   ]
  },
  {
   "cell_type": "markdown",
   "metadata": {},
   "source": [
    "### Question 12\n",
    "\n",
    "Comme $\\nabla \\ell_n(\\hat \\theta_{n}) = 0$, on a\n",
    "\n",
    "$$\\frac 1 {\\sqrt n} \\nabla \\ell_n(\\theta) = \\left( \\frac 1 n F_n(\\theta) - R_n \\right) \\sqrt n (\\hat \\theta_{n} - \\theta).$$\n",
    "\n",
    "Donc\n",
    "\n",
    "$$\\frac 1 n F_n(\\theta) \\sqrt n (\\hat \\theta_{n} - \\theta) = \\frac 1 {\\sqrt n} \\nabla \\ell_n(\\theta) + R_n \\sqrt n (\\hat \\theta_{n} - \\theta).$$\n",
    "\n",
    "Or, $\\frac 1 {\\sqrt n} \\nabla \\ell_n(\\theta) \\xrightarrow[]{\\mathrm{loi}} \\mathcal N(0, Q(\\theta))$, et $R_n \\xrightarrow[]{\\mathbb{P}_{n, \\theta}\\text{-prob}} 0$. Alors d'après le théorème de Slutsky, on a\n",
    "\n",
    "$$\\frac 1 n F_n(\\theta) \\sqrt n (\\hat \\theta_{n} - \\theta) \\xrightarrow[]{\\mathrm{loi}} \\mathcal N(0, Q(\\theta)).$$\n",
    "\n",
    "D'autre part $\\frac 1 n F_n(\\theta) \\xrightarrow[]{n \\to \\infty} Q(\\theta)$, donc encore d'après le théorème de Slutsky, on a\n",
    "\n",
    "$$Q(\\theta) \\sqrt n (\\hat \\theta_{n} - \\theta) \\xrightarrow[]{\\mathrm{loi}} \\mathcal N(0, Q(\\theta)).$$\n",
    "\n",
    "On en déduit\n",
    "\n",
    "$$\\sqrt n (\\hat \\theta_{n} - \\theta) \\xrightarrow[]{\\mathrm{loi}} \\mathcal N(0, Q(\\theta)^{-1}),$$\n",
    "\n",
    "où $Q(\\theta)^{-1}$ est inversible, car $Q(\\theta)$ est définie positive d'après l'hypothèse H1."
   ]
  },
  {
   "cell_type": "markdown",
   "metadata": {},
   "source": [
    "### Question 13\n",
    "\n",
    "Comme la suite $(\\hat \\theta_{n})_{n \\ge 1}$ est consistante, on a\n",
    "\n",
    "$$\\frac{1} n F_n(\\hat \\theta_{n}) \\xrightarrow[]{n \\to \\infty} Q( \\theta),$$\n",
    "\n",
    "ce qui implique\n",
    "\n",
    "$$ \\left( \\frac{1} n F_n(\\hat \\theta_{n}) \\right)^{-1} \\xrightarrow[]{n \\to \\infty} Q( \\theta)^{-1}.$$\n",
    "\n",
    "On en déduit que $\\beta_{n,k} \\xrightarrow[]{n \\to \\infty} (Q( \\theta)^{-1})_{k,k}$.\n",
    "\n",
    "Et vu que $\\sqrt n \\left( \\hat \\theta_{n} - \\theta \\right) \\xrightarrow[]{\\mathrm{loi}} \\mathcal N(0, Q(\\theta)^{-1})$, on a\n",
    "\n",
    "$$\\sqrt n \\left( \\hat \\theta_{n,k} - \\theta_k \\right) \\xrightarrow[]{\\mathrm{loi}} \\mathcal N(0, (Q(\\theta)^{-1})_{k,k}),$$\n",
    "\n",
    "car il s'agit de la $k$-ème composante d'un vecteur asymptotiquement gaussien.\n",
    "\n",
    "Et donc d'après le théorème de Slutsky, on a\n",
    "\n",
    "$$ \\sqrt {  \\frac {n} {\\beta_{n,k}} } \\left( \\hat \\theta_{n,k} - \\theta_k \\right) \\xrightarrow[]{\\mathrm{loi}} \\mathcal N(0, 1).$$"
   ]
  },
  {
   "cell_type": "markdown",
   "metadata": {},
   "source": [
    "### Question 14. Intervalles de confiance asymptotiques\n",
    "\n",
    "$$\\lim_{n \\to \\infty} \\mathbb{P}_{n, \\theta} \\left( \\sqrt {  \\frac {n} {\\beta_{n,k}} } \\left( \\hat \\theta_{n,k} - \\theta_k \\right) \\le u \\right) = \\mathbb{P} \\left( \\mathcal N(0, 1) \\le u \\right) = \\Phi(u).$$\n",
    "\n",
    "Ainsi, on trouve un intervalle de confiance asymptotique de niveau $1 - \\alpha$ pour $\\theta_k$:\n",
    "\n",
    "$$ I(\\alpha) = \\left[ \\hat \\theta_{n,k} - \\frac {u_{1 - \\alpha/2}} {\\sqrt {n/\\beta_{n,k}}}, \\hat \\theta_{n,k} + \\frac {u_{1 - \\alpha/2}} {\\sqrt {n/\\beta_{n,k}}} \\right],$$\n",
    "\n",
    "où $u_{1 - \\alpha/2}$ est le quantile d'ordre $1 - \\alpha/2$ de la loi normale centrée réduite."
   ]
  },
  {
   "cell_type": "markdown",
   "metadata": {},
   "source": [
    "### Question 15. Test de niveau asymptotique $\\alpha$ pour $H_0: \\theta_k = 0$ contre $H_1: \\theta_k \\ne 0$\n",
    "\n",
    "On considère la statistique de test\n",
    "\n",
    "$$T(Z) = |\\hat \\theta_{n,k}|$$\n",
    "\n",
    "et la région de rejet\n",
    "\n",
    "$$\\mathcal R_\\alpha = \\left\\{ Z \\mid T(Z) > \\sqrt{ \\frac {\\beta_{n,k}} {n} } u_{1 - \\alpha/2} \\right\\}.$$\n",
    "\n",
    "Et donc d'après la question précédente, on a\n",
    "\n",
    "$$\\lim_{n \\to \\infty} \\mathbb{P}_{n, \\theta} (\\theta \\not\\in I(\\alpha)) = \\alpha.$$\n",
    "\n",
    "On en déduit que ce test répond à la question posée."
   ]
  },
  {
   "cell_type": "markdown",
   "metadata": {},
   "source": [
    "### Question 16. Calcul de la $p$-valeur\n",
    "\n",
    "La $p$-valeur assymptotique $\\hat \\alpha(Z)$ vérifie\n",
    "\n",
    "$$ |\\hat \\theta_{n,k}| = \\sqrt{ \\frac {\\beta_{n,k}} {n} } u_{1 - \\hat \\alpha(Z)/2}.$$\n",
    "\n",
    "Donc\n",
    "\n",
    "$$\\hat \\alpha(Z) = 2 \\left( 1 - \\Phi \\left( \\frac {|\\hat \\theta_{n,k}|} {\\sqrt{ \\frac {\\beta_{n,k}} {n} }} \\right) \\right),$$\n",
    "\n",
    "où $\\Phi$ est la fonction de répartition de la loi normale centrée réduite."
   ]
  },
  {
   "cell_type": "markdown",
   "metadata": {},
   "source": [
    "### Partie Numérique"
   ]
  },
  {
   "cell_type": "code",
   "execution_count": 4,
   "metadata": {},
   "outputs": [],
   "source": [
    "import pandas as pd\n",
    "\n",
    "# charger les données \n",
    "loc= \"Titanic.csv\"\n",
    "data=pd.read_csv(loc, delimiter=\",\", skiprows=0)\n",
    "\n",
    "data[\"Age\"] = data[\"Age\"].fillna(data[\"Age\"].mean())\n",
    "data.drop([\"Cabin\"], axis=1, inplace=True)\n",
    "dtype = {\"PassengerId\":int,\t\"Survived\": bool,\t\"Pclass\": int,\t\"Name\": str,\t\"Sex\": str,\t\"Age\": int,\t\"SibSp\": int,\t\"Parch\": int,\t\"Ticket\": str,\t\"Fare\": float,\t\"Embarked\": str}\n",
    "data = data.astype(dtype)\n",
    "\n",
    "preliminary_data = data.drop([\"PassengerId\", \"Ticket\",  \"Embarked\", \"Name\"], axis=1, inplace=False)"
   ]
  },
  {
   "cell_type": "markdown",
   "metadata": {},
   "source": [
    "### Question 1\n"
   ]
  },
  {
   "cell_type": "code",
   "execution_count": 5,
   "metadata": {},
   "outputs": [
    {
     "name": "stdout",
     "output_type": "stream",
     "text": [
      "The total number of deaths was 549 out of 891 passengers.\n",
      "This represents  61.62% of the total.\n"
     ]
    }
   ],
   "source": [
    "num_passenger = preliminary_data[\"Survived\"].count()\n",
    "dead_passengers = preliminary_data[~preliminary_data[\"Survived\"]]\n",
    "num_dead = dead_passengers[\"Survived\"].count()\n",
    "\n",
    "print(f\"The total number of deaths was {num_dead} out of {num_passenger} passengers.\\nThis represents {100*num_dead/num_passenger: .2f}% of the total.\")"
   ]
  },
  {
   "cell_type": "markdown",
   "metadata": {},
   "source": [
    "### Question 2"
   ]
  },
  {
   "cell_type": "code",
   "execution_count": 6,
   "metadata": {},
   "outputs": [
    {
     "name": "stdout",
     "output_type": "stream",
     "text": [
      "Number of women who died: 81\n",
      "Percentage of women who died:  25.80%\n",
      "Number of men who died: 468\n",
      "Percentage of men who died:  81.11%\n",
      "The percentage of women between the people who passed away is:  14.75%\n",
      "The percentage of women between the people who survived is:  68.13%\n"
     ]
    }
   ],
   "source": [
    "num_dead_women = dead_passengers[dead_passengers[\"Sex\"] == \"female\"][\"Survived\"].count()\n",
    "num_women = preliminary_data[preliminary_data[\"Sex\"] == \"female\"][\"Survived\"].count()\n",
    "num_women_survived = num_women - num_dead_women\n",
    "num_dead_men = num_dead - num_dead_women\n",
    "num_men = num_passenger - num_women \n",
    "num_men_survived = num_men - num_dead_men\n",
    "\n",
    "print(f\"Number of women who died: {num_dead_women}\")\n",
    "print(f\"Percentage of women who died: {100*num_dead_women/num_women: .2f}%\")\n",
    "print(f\"Number of men who died: {num_dead_men}\")\n",
    "print(f\"Percentage of men who died: {100*num_dead_men/num_men: .2f}%\")\n",
    "print(f\"The percentage of women between the people who passed away is: {100*num_dead_women/num_dead: .2f}%\\nThe percentage of women between the people who survived is: {100*num_women_survived/(num_passenger-num_dead): .2f}%\")"
   ]
  },
  {
   "cell_type": "markdown",
   "metadata": {},
   "source": [
    "L’analyse de la proportion de passagers décédés par sexe montre que les hommes sont beaucoup plus nombreux que les femmes. En effet, les hommes ont proportionnellement 3,14 fois plus de chances de décéder que les femmes.\n",
    "\n",
    "Nous avons aussi que la proportion de femmes ayant survécu est nettement plus significative que celle des hommes. On peut donc en conclure que les femmes ont probablement été priorisées lors de l’évacuation."
   ]
  },
  {
   "cell_type": "markdown",
   "metadata": {},
   "source": [
    "### Question 3"
   ]
  },
  {
   "cell_type": "code",
   "execution_count": 7,
   "metadata": {},
   "outputs": [
    {
     "name": "stdout",
     "output_type": "stream",
     "text": [
      "For pclass = 1, we have:\n",
      "Number of women who died in p_class = 1: 3\n",
      "Percentage of women in p_class = 1 who died:  3.19%\n",
      "Number of men in p_class = 1 who died: 77\n",
      "Percentage of men in p_class = 1 who died:  63.11%\n",
      "The percentage of women between the people who passed away when p_class = 1 is:  3.75%\n",
      "The percentage of women between the people who survived when p_class = 1 is:  66.91%\n",
      "\n",
      "For pclass = 2, we have:\n",
      "Number of women who died in p_class = 2: 6\n",
      "Percentage of women in p_class = 2 who died:  7.89%\n",
      "Number of men in p_class = 2 who died: 91\n",
      "Percentage of men in p_class = 2 who died:  84.26%\n",
      "The percentage of women between the people who passed away when p_class = 2 is:  6.19%\n",
      "The percentage of women between the people who survived when p_class = 2 is:  80.46%\n",
      "\n",
      "For pclass = 3, we have:\n",
      "Number of women who died in p_class = 3: 72\n",
      "Percentage of women in p_class = 3 who died:  50.00%\n",
      "Number of men in p_class = 3 who died: 300\n",
      "Percentage of men in p_class = 3 who died:  86.46%\n",
      "The percentage of women between the people who passed away when p_class = 3 is:  19.35%\n",
      "The percentage of women between the people who survived when p_class = 3 is:  60.50%\n",
      "\n"
     ]
    }
   ],
   "source": [
    "passengers_per_class = preliminary_data[[\"Pclass\", \"Sex\", \"Survived\", \"Parch\"]].groupby([\"Sex\", \"Pclass\", \"Survived\"]).count()\n",
    "passengers_per_class.rename(columns={\"Parch\": \"Number\"}, inplace=True)\n",
    "passengers_per_class[\"Percentage\"] = passengers_per_class[\"Number\"] / passengers_per_class.groupby([\"Pclass\", \"Survived\"])[\"Number\"].transform(\"sum\") * 100\n",
    "passengers_per_class = passengers_per_class.reset_index()\n",
    "\n",
    "for pclass in range(1,4):\n",
    "    print(f\"For pclass = {pclass}, we have:\")\n",
    "    dead_women_percentage = passengers_per_class[(passengers_per_class[\"Pclass\"]== pclass)&(~passengers_per_class[\"Survived\"])&(passengers_per_class[\"Sex\"] == \"female\")][\"Percentage\"].sum()\n",
    "    alive_women_percentage = passengers_per_class[(passengers_per_class[\"Pclass\"]== pclass)&(passengers_per_class[\"Survived\"])&(passengers_per_class[\"Sex\"] == \"female\")][\"Percentage\"].sum()\n",
    "    num_dead_women = preliminary_data[(preliminary_data[\"Sex\"] == \"female\")&(preliminary_data[\"Pclass\"] == pclass)&(preliminary_data[\"Survived\"] == 0)][\"Survived\"].count()\n",
    "    num_dead_men = preliminary_data[(preliminary_data[\"Sex\"] == \"male\")&(preliminary_data[\"Pclass\"] == pclass)&(preliminary_data[\"Survived\"] == 0)][\"Survived\"].count()\n",
    "    num_women = preliminary_data[(preliminary_data[\"Sex\"] == \"female\")&(preliminary_data[\"Pclass\"] == pclass)][\"Survived\"].count()\n",
    "    num_men = preliminary_data[(preliminary_data[\"Sex\"] == \"male\")&(preliminary_data[\"Pclass\"] == pclass)][\"Survived\"].count()\n",
    "    print(f\"Number of women who died in p_class = {pclass}: {num_dead_women}\")\n",
    "    print(f\"Percentage of women in p_class = {pclass} who died: {100*num_dead_women/num_women: .2f}%\")\n",
    "    print(f\"Number of men in p_class = {pclass} who died: {num_dead_men}\")\n",
    "    print(f\"Percentage of men in p_class = {pclass} who died: {100*num_dead_men/num_men: .2f}%\")\n",
    "    print(f\"The percentage of women between the people who passed away when p_class = {pclass} is: {dead_women_percentage: .2f}%\\nThe percentage of women between the people who survived when p_class = {pclass} is: {alive_women_percentage: .2f}%\\n\")\n",
    "    "
   ]
  },
  {
   "cell_type": "markdown",
   "metadata": {},
   "source": [
    "Tout comme nous l’avons observé pour les sexes, il semble également que les décès soient liés à la classe du passager. Les passagers de première classe ont proportionnellement moins décédé que ceux de deuxième classe, qui eux-mêmes ont moins décédé que les passagers de troisième classe.\n",
    "\n",
    "En plus, on peut en conclure que :\n",
    "\n",
    "1.\tLa proportion d’hommes ayant survécu est significative uniquement en première classe. Ils faisaient donc partie des priorités lors des opérations de sauvetage.\n",
    "2.\tDans les classes moins aisées, le nombre de femmes décédées a été plus important, et la différence avec le nombre d’hommes décédés dans la même classe a été plus discrète.\n"
   ]
  },
  {
   "cell_type": "markdown",
   "metadata": {},
   "source": [
    "### Question 4"
   ]
  },
  {
   "cell_type": "code",
   "execution_count": 8,
   "metadata": {},
   "outputs": [
    {
     "name": "stdout",
     "output_type": "stream",
     "text": [
      "          Survived       Age     SibSp     Parch      Fare  Sex_male  \\\n",
      "Survived  1.000000 -0.067809 -0.035322  0.081629  0.257307 -0.543351   \n",
      "Age      -0.067809  1.000000 -0.232743 -0.176744  0.093856  0.082533   \n",
      "SibSp    -0.035322 -0.232743  1.000000  0.414838  0.159651 -0.114631   \n",
      "Parch     0.081629 -0.176744  0.414838  1.000000  0.216225 -0.245489   \n",
      "Fare      0.257307  0.093856  0.159651  0.216225  1.000000 -0.182333   \n",
      "Sex_male -0.543351  0.082533 -0.114631 -0.245489 -0.182333  1.000000   \n",
      "Pclass_2  0.093349  0.010199 -0.055932 -0.000734 -0.118557 -0.064746   \n",
      "Pclass_3 -0.322308 -0.285608  0.092548  0.015790 -0.413333  0.137143   \n",
      "\n",
      "          Pclass_2  Pclass_3  \n",
      "Survived  0.093349 -0.322308  \n",
      "Age       0.010199 -0.285608  \n",
      "SibSp    -0.055932  0.092548  \n",
      "Parch    -0.000734  0.015790  \n",
      "Fare     -0.118557 -0.413333  \n",
      "Sex_male -0.064746  0.137143  \n",
      "Pclass_2  1.000000 -0.565210  \n",
      "Pclass_3 -0.565210  1.000000  \n"
     ]
    }
   ],
   "source": [
    "# Convert categorical variables 'Sex' and 'Pclass' into dummy variables\n",
    "df_dummies = pd.get_dummies(preliminary_data, columns=[\"Sex\", \"Pclass\"], drop_first=True)\n",
    "\n",
    "# Compute the correlation matrix\n",
    "correlation_matrix = df_dummies.corr()\n",
    "\n",
    "# Display the correlation matrix\n",
    "print(correlation_matrix)"
   ]
  },
  {
   "cell_type": "markdown",
   "metadata": {},
   "source": [
    "En observant la matrice de corrélation des covariables, on constate que la colonne “Survived”, qui indique si le passager est décédé ou non, présente une forte corrélation avec les colonnes relatives au sexe (-0,54), au tarif (0,26) et à la classe (1ère : 0,23 ; 2ème : 0,09 ; 3ème : -0,32). On peut donc s’attendre à ce que l’estimation de la probabilité de survie dépende de certains de ces paramètres.\n",
    "\n",
    "En revanche, la corrélation entre le taux de survie et l’âge, le nombre de frères, sœurs et conjoints (SibSp), ainsi que le nombre de parents et enfants (Parch), est relativement faible."
   ]
  },
  {
   "cell_type": "markdown",
   "metadata": {},
   "source": [
    "### Question 5"
   ]
  },
  {
   "cell_type": "code",
   "execution_count": 9,
   "metadata": {},
   "outputs": [
    {
     "name": "stdout",
     "output_type": "stream",
     "text": [
      "Optimization terminated successfully.\n",
      "         Current function value: 0.442623\n",
      "         Iterations 6\n",
      "                           Logit Regression Results                           \n",
      "==============================================================================\n",
      "Dep. Variable:               Survived   No. Observations:                  891\n",
      "Model:                          Logit   Df Residuals:                      883\n",
      "Method:                           MLE   Df Model:                            7\n",
      "Date:                Fri, 01 Nov 2024   Pseudo R-squ.:                  0.3353\n",
      "Time:                        18:08:15   Log-Likelihood:                -394.38\n",
      "converged:                       True   LL-Null:                       -593.33\n",
      "Covariance Type:            nonrobust   LLR p-value:                 6.722e-82\n",
      "==============================================================================\n",
      "                 coef    std err          z      P>|z|      [0.025      0.975]\n",
      "------------------------------------------------------------------------------\n",
      "const          3.8297      0.445      8.606      0.000       2.958       4.702\n",
      "Age           -0.0394      0.008     -5.027      0.000      -0.055      -0.024\n",
      "SibSp         -0.3493      0.109     -3.193      0.001      -0.564      -0.135\n",
      "Parch         -0.1118      0.118     -0.951      0.342      -0.342       0.119\n",
      "Fare           0.0030      0.002      1.227      0.220      -0.002       0.008\n",
      "Sex_male      -2.7605      0.199    -13.859      0.000      -3.151      -2.370\n",
      "Pclass_2      -1.0195      0.294     -3.471      0.001      -1.595      -0.444\n",
      "Pclass_3      -2.1514      0.290     -7.425      0.000      -2.719      -1.583\n",
      "==============================================================================\n"
     ]
    }
   ],
   "source": [
    "import statsmodels.api as sm\n",
    "\n",
    "names = ['Age', 'SibSp', 'Parch', 'Fare', 'Sex_male', 'Pclass_2', 'Pclass_3']\n",
    "# Define the independent variables (X) and the dependent variable (y)\n",
    "x = df_dummies[names]\n",
    "y = df_dummies['Survived']\n",
    "y = y.astype({\"Survived\": int})\n",
    "\n",
    "dtype = {\"Pclass_2\": int,\t\"Pclass_3\": int,\t\"Sex_male\": int,\t\"Age\": int,\t\"SibSp\": int,\t\"Parch\": int,\t\"Fare\": float}\n",
    "x = x.astype(dtype=dtype)\n",
    "\n",
    "# Add an intercept (constant) term to X\n",
    "x = sm.add_constant(x)\n",
    "\n",
    "# Fit the Logistic Regression model\n",
    "logit_model = sm.Logit(y, x)\n",
    "result = logit_model.fit()\n",
    "\n",
    "# Print the summary of the model\n",
    "print(result.summary())\n"
   ]
  },
  {
   "cell_type": "code",
   "execution_count": 10,
   "metadata": {},
   "outputs": [
    {
     "name": "stdout",
     "output_type": "stream",
     "text": [
      "\n",
      "The 95% Confidence Intervals are:\n",
      "\n",
      "                 0         1\n",
      "const     2.957569  4.701930\n",
      "Age      -0.054729 -0.024026\n",
      "SibSp    -0.563775 -0.134914\n",
      "Parch    -0.342228  0.118689\n",
      "Fare     -0.001793  0.007797\n",
      "Sex_male -3.150958 -2.370129\n",
      "Pclass_2 -1.595095 -0.443809\n",
      "Pclass_3 -2.719350 -1.583498\n"
     ]
    }
   ],
   "source": [
    "# Calculate confidence intervals (95%)\n",
    "confidence_intervals = result.conf_int(alpha=0.05)\n",
    "print(\"\\nThe 95% Confidence Intervals are:\\n\")\n",
    "print(confidence_intervals)"
   ]
  },
  {
   "cell_type": "markdown",
   "metadata": {},
   "source": [
    "On note d’abord que l’intervalle de confiance associé à Fare est très étroit et centré autour de zéro. Cela suggère que supprimer cette variable de notre analyse n’affecterait probablement pas beaucoup les résultats.\n",
    "\n",
    "Un phénomène similaire se produit avec Parch, bien que son intervalle de confiance soit légèrement plus large. Cependant, nous avions déjà observé que sa corrélation avec le taux de survie est presque nulle. Ainsi, il est probable que son influence sur les résultats ne soit pas significative non plus.\n",
    "\n",
    "De plus, on peut remarquer que la valeur de la constante est relativement élevée, ce qui justifie son inclusion dans le modèle. Le sexe, en revanche, a une influence manifeste sur le taux de survie, comme en témoigne le coefficient élevé.\n",
    "\n",
    "Enfin, les intervalles obtenus sont assez resserrés, ce qui est un comportement souhaité, car cela indique que la variance des données n’est pas trop élevée."
   ]
  },
  {
   "cell_type": "markdown",
   "metadata": {},
   "source": [
    "### Question 6"
   ]
  },
  {
   "cell_type": "code",
   "execution_count": 11,
   "metadata": {},
   "outputs": [
    {
     "name": "stdout",
     "output_type": "stream",
     "text": [
      "P-value for Parch: 0.34182759732514556\n"
     ]
    }
   ],
   "source": [
    "# P-value for the hypothesis test H0: βParch = 0\n",
    "p_value_parch = result.pvalues['Parch']\n",
    "print(f\"P-value for Parch: {p_value_parch}\")"
   ]
  },
  {
   "cell_type": "markdown",
   "metadata": {},
   "source": [
    "On en conclut que l’hypothèse $H_0$ est compatible avec les données, car la p-valeur est relativement élevée.\n",
    "\n",
    "Par conséquent, nous ne pouvons pas rejeter l’hypothèse nulle. Il est donc envisageable de retirer la variable Parch du modèle."
   ]
  },
  {
   "cell_type": "markdown",
   "metadata": {},
   "source": [
    "### Question 7"
   ]
  },
  {
   "cell_type": "code",
   "execution_count": 12,
   "metadata": {},
   "outputs": [
    {
     "name": "stdout",
     "output_type": "stream",
     "text": [
      "Optimization terminated successfully.\n",
      "         Current function value: 0.443138\n",
      "         Iterations 6\n",
      "Model without Parch:\n",
      "                           Logit Regression Results                           \n",
      "==============================================================================\n",
      "Dep. Variable:               Survived   No. Observations:                  891\n",
      "Model:                          Logit   Df Residuals:                      884\n",
      "Method:                           MLE   Df Model:                            6\n",
      "Date:                Fri, 01 Nov 2024   Pseudo R-squ.:                  0.3345\n",
      "Time:                        18:08:15   Log-Likelihood:                -394.84\n",
      "converged:                       True   LL-Null:                       -593.33\n",
      "Covariance Type:            nonrobust   LLR p-value:                 1.245e-82\n",
      "==============================================================================\n",
      "                 coef    std err          z      P>|z|      [0.025      0.975]\n",
      "------------------------------------------------------------------------------\n",
      "const          3.8058      0.442      8.601      0.000       2.939       4.673\n",
      "Age           -0.0391      0.008     -5.007      0.000      -0.054      -0.024\n",
      "SibSp         -0.3772      0.106     -3.557      0.000      -0.585      -0.169\n",
      "Fare           0.0025      0.002      1.073      0.283      -0.002       0.007\n",
      "Sex_male      -2.7247      0.195    -13.985      0.000      -3.107      -2.343\n",
      "Pclass_2      -1.0456      0.292     -3.585      0.000      -1.617      -0.474\n",
      "Pclass_3      -2.1832      0.287     -7.615      0.000      -2.745      -1.621\n",
      "==============================================================================\n"
     ]
    }
   ],
   "source": [
    "# Fit a model without 'Parch' and calculate confidence intervals\n",
    "x_without_parch = x.drop(columns=['Parch'])\n",
    "logit_model_without_parch = sm.Logit(y, x_without_parch)\n",
    "result_without_parch = logit_model_without_parch.fit()\n",
    "\n",
    "print(\"Model without Parch:\")\n",
    "print(result_without_parch.summary())"
   ]
  },
  {
   "cell_type": "code",
   "execution_count": 13,
   "metadata": {},
   "outputs": [
    {
     "name": "stdout",
     "output_type": "stream",
     "text": [
      "\n",
      "The 95% Confidence Intervals excluding Parch are:\n",
      "\n",
      "                 0         1\n",
      "const     2.938543  4.673090\n",
      "Age      -0.054434 -0.023808\n",
      "SibSp    -0.585049 -0.169391\n",
      "Fare     -0.002061  0.007049\n",
      "Sex_male -3.106537 -2.342807\n",
      "Pclass_2 -1.617128 -0.474003\n",
      "Pclass_3 -2.745112 -1.621275\n"
     ]
    }
   ],
   "source": [
    "# Calculate confidence intervals (95%)\n",
    "confidence_intervals_q7 = result_without_parch.conf_int(alpha=0.05)\n",
    "print(\"\\nThe 95% Confidence Intervals excluding Parch are:\\n\")\n",
    "print(confidence_intervals_q7)"
   ]
  },
  {
   "cell_type": "markdown",
   "metadata": {},
   "source": [
    "Enfin, nous avons constaté que la longueur des intervalles a légèrement diminué, sans qu’il y ait de différence significative après la suppression du paramètre du modèle. Cela confirme la conclusion tirée de la p-valeur, à savoir que retirer ce paramètre était une décision justifiée."
   ]
  },
  {
   "cell_type": "markdown",
   "metadata": {},
   "source": [
    "### Question 8"
   ]
  },
  {
   "cell_type": "code",
   "execution_count": 14,
   "metadata": {},
   "outputs": [
    {
     "name": "stdout",
     "output_type": "stream",
     "text": [
      "P-value for Fare: 0.28325267177106317\n"
     ]
    }
   ],
   "source": [
    "# P-value for the hypothesis test H0: βFare = 0\n",
    "p_value_fare = result_without_parch.pvalues['Fare']\n",
    "print(f\"P-value for Fare: {p_value_fare}\")"
   ]
  },
  {
   "cell_type": "markdown",
   "metadata": {},
   "source": [
    "On en conclut que l’hypothèse $H_0$ est compatible avec les données, car la p-valeur est relativement élevée.\n",
    "\n",
    "Par conséquent, nous ne pouvons pas rejeter l’hypothèse nulle. Il est donc envisageable de retirer la variable Fare du modèle."
   ]
  },
  {
   "cell_type": "markdown",
   "metadata": {},
   "source": [
    "### Question 9"
   ]
  },
  {
   "cell_type": "code",
   "execution_count": 15,
   "metadata": {},
   "outputs": [
    {
     "name": "stdout",
     "output_type": "stream",
     "text": [
      "Optimization terminated successfully.\n",
      "         Current function value: 0.443835\n",
      "         Iterations 6\n",
      "Model without Parch and Fare:\n",
      "                           Logit Regression Results                           \n",
      "==============================================================================\n",
      "Dep. Variable:               Survived   No. Observations:                  891\n",
      "Model:                          Logit   Df Residuals:                      885\n",
      "Method:                           MLE   Df Model:                            5\n",
      "Date:                Fri, 01 Nov 2024   Pseudo R-squ.:                  0.3335\n",
      "Time:                        18:08:15   Log-Likelihood:                -395.46\n",
      "converged:                       True   LL-Null:                       -593.33\n",
      "Covariance Type:            nonrobust   LLR p-value:                 2.455e-83\n",
      "==============================================================================\n",
      "                 coef    std err          z      P>|z|      [0.025      0.975]\n",
      "------------------------------------------------------------------------------\n",
      "const          4.0183      0.399     10.083      0.000       3.237       4.799\n",
      "Age           -0.0398      0.008     -5.104      0.000      -0.055      -0.024\n",
      "SibSp         -0.3569      0.104     -3.433      0.001      -0.561      -0.153\n",
      "Sex_male      -2.7404      0.194    -14.114      0.000      -3.121      -2.360\n",
      "Pclass_2      -1.1869      0.262     -4.535      0.000      -1.700      -0.674\n",
      "Pclass_3      -2.3502      0.243     -9.669      0.000      -2.827      -1.874\n",
      "==============================================================================\n"
     ]
    }
   ],
   "source": [
    "# Fit a model without 'Parch' and 'Fare'\n",
    "x_without_parch_fare = x.drop(columns=['Parch', 'Fare'])\n",
    "logit_model_without_parch_fare = sm.Logit(y, x_without_parch_fare)\n",
    "result_without_parch_fare = logit_model_without_parch_fare.fit()\n",
    "\n",
    "print(\"Model without Parch and Fare:\")\n",
    "print(result_without_parch_fare.summary())"
   ]
  },
  {
   "cell_type": "code",
   "execution_count": 16,
   "metadata": {},
   "outputs": [
    {
     "name": "stdout",
     "output_type": "stream",
     "text": [
      "\n",
      "The 95% Confidence Intervals excluding Parch and Fare are:\n",
      "\n",
      "                 0         1\n",
      "const     3.237190  4.799357\n",
      "Age      -0.055016 -0.024488\n",
      "SibSp    -0.560743 -0.153147\n",
      "Sex_male -3.120983 -2.359897\n",
      "Pclass_2 -1.699824 -0.673973\n",
      "Pclass_3 -2.826593 -1.873810\n"
     ]
    }
   ],
   "source": [
    "# Calculate confidence intervals (95%)\n",
    "confidence_intervals_q9 = result_without_parch_fare.conf_int(alpha=0.05)\n",
    "print(\"\\nThe 95% Confidence Intervals excluding Parch and Fare are:\\n\")\n",
    "print(confidence_intervals_q9)"
   ]
  },
  {
   "cell_type": "markdown",
   "metadata": {},
   "source": [
    "Enfin, nous avons constaté que la longueur des intervalles a légèrement diminué, sans qu’il y ait de différence significative après la suppression du paramètre du modèle. Cela confirme la conclusion tirée de la p-valeur, à savoir que retirer ce paramètre était une décision justifiée."
   ]
  },
  {
   "cell_type": "markdown",
   "metadata": {},
   "source": [
    "### Question 10"
   ]
  },
  {
   "cell_type": "markdown",
   "metadata": {},
   "source": [
    "D'abord on analyse la prediction donné par le modèle qui prend en compte les colomnes Fare et Parch."
   ]
  },
  {
   "cell_type": "code",
   "execution_count": 17,
   "metadata": {},
   "outputs": [
    {
     "name": "stdout",
     "output_type": "stream",
     "text": [
      "Probability of survival for a 22-year-old male in 1st class:  58.10%\n",
      "Probability of survival for a 22-year-old female in 1st class:  96.13%\n"
     ]
    }
   ],
   "source": [
    "# Predict survival probabilities for specific cases\n",
    "\n",
    "# Case 1: Male, 22 years old, no family (SibSp=0, Parch=0), 1st class\n",
    "\n",
    "median_fare_1st_class_male = df_dummies[(df_dummies['Pclass_2'] == 0)&(df_dummies['Pclass_3'] == 0)&(df_dummies[\"Sex_male\"]==1)]['Fare'].median()\n",
    "male_22 = [1, 22, 0, 0, median_fare_1st_class_male, 1, 0, 0]\n",
    "prob_male_22 = result.predict([male_22])[0]\n",
    "\n",
    "# Case 2: Female, 22 years old, no family, 1st class\n",
    "median_fare_1st_class_female = df_dummies[(df_dummies['Pclass_2'] == 0)&(df_dummies['Pclass_3'] == 0)&(df_dummies[\"Sex_male\"]==0)]['Fare'].median()\n",
    "female_22 = [1, 22, 0, 0, median_fare_1st_class_female, 0, 0, 0]\n",
    "prob_female_22 = result.predict([female_22])[0]\n",
    "\n",
    "print(f\"Probability of survival for a 22-year-old male in 1st class: {prob_male_22*100: .2f}%\")\n",
    "print(f\"Probability of survival for a 22-year-old female in 1st class: {prob_female_22*100: .2f}%\")"
   ]
  },
  {
   "cell_type": "markdown",
   "metadata": {},
   "source": [
    "Ensuite, nous effectuons le même calcul, mais avec le modèle sans ces colonnes. Le résultat est présenté ci-dessous :"
   ]
  },
  {
   "cell_type": "code",
   "execution_count": 18,
   "metadata": {},
   "outputs": [
    {
     "name": "stdout",
     "output_type": "stream",
     "text": [
      "Probability of survival for a 22-year-old male in 1st class:  59.95%\n",
      "Probability of survival for a 22-year-old female in 1st class:  95.87%\n"
     ]
    }
   ],
   "source": [
    "# Predict survival probabilities for specific cases\n",
    "\n",
    "# Case 1: Male, 22 years old, no family (SibSp=0, Parch=0), 1st class\n",
    "male_22 = [1, 22, 0, 1, 0, 0]\n",
    "prob_male_22 = result_without_parch_fare.predict([male_22])[0]\n",
    "\n",
    "# Case 2: Female, 22 years old, no family, 1st class\n",
    "female_22 = [1, 22, 0, 0,  0, 0]\n",
    "prob_female_22 = result_without_parch_fare.predict([female_22])[0]\n",
    "\n",
    "print(f\"Probability of survival for a 22-year-old male in 1st class: {prob_male_22*100: .2f}%\")\n",
    "print(f\"Probability of survival for a 22-year-old female in 1st class: {prob_female_22*100: .2f}%\")"
   ]
  },
  {
   "cell_type": "markdown",
   "metadata": {},
   "source": [
    "Ainsi, étant donné que les deux résultats sont très similaires, nous concluons que la suppression de ces paramètres dans notre analyse était justifiée.\n",
    "\n",
    "De plus, il est également notable que la probabilité de survie est considérablement plus élevée pour la femme, ce qui était attendu compte tenu des résultats des premières questions."
   ]
  }
 ],
 "metadata": {
  "kernelspec": {
   "display_name": "Python 3",
   "language": "python",
   "name": "python3"
  },
  "language_info": {
   "codemirror_mode": {
    "name": "ipython",
    "version": 3
   },
   "file_extension": ".py",
   "mimetype": "text/x-python",
   "name": "python",
   "nbconvert_exporter": "python",
   "pygments_lexer": "ipython3",
   "version": "3.11.0"
  }
 },
 "nbformat": 4,
 "nbformat_minor": 2
}
